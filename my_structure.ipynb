{
  "nbformat": 4,
  "nbformat_minor": 0,
  "metadata": {
    "colab": {
      "provenance": [],
      "authorship_tag": "ABX9TyPaEJz0nYPTfHjfah6HQrRJ",
      "include_colab_link": true
    },
    "kernelspec": {
      "name": "python3",
      "display_name": "Python 3"
    },
    "language_info": {
      "name": "python"
    }
  },
  "cells": [
    {
      "cell_type": "markdown",
      "metadata": {
        "id": "view-in-github",
        "colab_type": "text"
      },
      "source": [
        "<a href=\"https://colab.research.google.com/github/vika22-slobodianuk/structure_task/blob/main/my_structure.ipynb\" target=\"_parent\"><img src=\"https://colab.research.google.com/assets/colab-badge.svg\" alt=\"Open In Colab\"/></a>"
      ]
    },
    {
      "cell_type": "code",
      "source": [
        "#1\n",
        "teams = [\n",
        "    {\"name\": \"Команда А\", \"losses\": 8, \"wins\": 17, \"draws\": 4},\n",
        "    {\"name\": \"Команда Б\", \"losses\": 4, \"wins\": 12, \"draws\": 2},\n",
        "    {\"name\": \"Команда В\", \"losses\": 6, \"wins\": 8, \"draws\": 1}\n",
        "]\n",
        "\n",
        "max_team = max(teams, key=lambda t: t[\"wins\"])\n",
        "print(f\"Команда з найбільшою кількістю перемог: {max_team['name']} ({max_team['wins']} перемог)\")"
      ],
      "metadata": {
        "colab": {
          "base_uri": "https://localhost:8080/"
        },
        "id": "gkwwVXanZ0N5",
        "outputId": "07703931-adbd-49b9-f724-0bf422738c6b"
      },
      "execution_count": 4,
      "outputs": [
        {
          "output_type": "stream",
          "name": "stdout",
          "text": [
            "Команда з найбільшою кількістю перемог: Команда А (17 перемог)\n"
          ]
        }
      ]
    },
    {
      "cell_type": "code",
      "source": [
        "#2\n",
        "class Team:\n",
        "    def __init__(self, name, wins, losses, draws):\n",
        "        self.name = name\n",
        "        self.wins = wins\n",
        "        self.losses = losses\n",
        "        self.draws = draws\n",
        "\n",
        "teams = [\n",
        "    Team(\"Команда А\", 17, 8, 4),\n",
        "    Team(\"Команда Б\", 12, 4, 2),\n",
        "    Team(\"Команда В\", 8, 6, 1)\n",
        "]\n",
        "\n",
        "max_team = max(teams, key=lambda t: t.wins)\n",
        "print(f\"Команда з найбільшою кількістю перемог: {max_team.name} ({max_team.wins} перемог)\")\n"
      ],
      "metadata": {
        "colab": {
          "base_uri": "https://localhost:8080/"
        },
        "id": "cYCD3eO7gGpE",
        "outputId": "394e56e0-7361-4c91-8396-fd657a8b66a2"
      },
      "execution_count": 12,
      "outputs": [
        {
          "output_type": "stream",
          "name": "stdout",
          "text": [
            "Команда з найбільшою кількістю перемог: Команда А (17 перемог)\n"
          ]
        }
      ]
    },
    {
      "cell_type": "code",
      "source": [
        "\n",
        "#3\n",
        "class Student:\n",
        "    def __init__(self, name, course, group, birth_year):\n",
        "        self.name = name\n",
        "        self.course = course\n",
        "        self.group = group\n",
        "        self.birth_year = birth_year\n",
        "\n",
        "students = [\n",
        "    Student(\"Слободянюк Вікторія Вікторівна\", 1, \"1СОМ\", 2007),\n",
        "    Student(\"Кисіль Яна Юріївна\", 1, \"1СОМ\", 2007),\n",
        "    Student(\"Стаськова Валентина Анатоліївна\", 1, \"1СОМ\", 2007),\n",
        "    Student(\"Сичук Ангеліна Олександрівна\", 1, \"1СОМ\", 2006),\n",
        "    Student(\"Бугрова Юлія Вікторівна\", 1, \"1СОМ\", 2007),\n",
        "    Student(\"Бичко Даша Юріївна\", 1, \"1СОМ\", 2007),\n",
        "    ]\n",
        "\n",
        "youngest = max(students, key=lambda s: s.birth_year)\n",
        "\n",
        "print(f\"Наймолодший студент: {youngest.name}, курс {youngest.course}, група {youngest.group}, народжений у {youngest.birth_year}\")\n",
        "\n",
        "\n"
      ],
      "metadata": {
        "colab": {
          "base_uri": "https://localhost:8080/"
        },
        "id": "PZcB1k45Z-_9",
        "outputId": "c5a01106-5111-4058-ad51-e790e2aa4a4a"
      },
      "execution_count": 11,
      "outputs": [
        {
          "output_type": "stream",
          "name": "stdout",
          "text": [
            "Наймолодший студент: Слободянюк Вікторія Вікторівна, курс 1, група 1СОМ, народжений у 2007\n"
          ]
        }
      ]
    },
    {
      "cell_type": "code",
      "source": [
        "#4\n",
        "students = [\n",
        "    {\"name\": \"Слободянюк Вікторія Вікторівна\", \"course\": 1, \"group\": \"1СОМ\", \"birth_year\": 2007},\n",
        "    {\"name\": \"Кисіль Яна Юріївна\", \"course\": 1, \"group\": \"1СОМ\", \"birth_year\": 2007},\n",
        "    {\"name\": \"Стаськова Валентина Анатоліївна\", \"course\": 1, \"group\": \"1СОМ\", \"birth_year\": 2007},\n",
        "    {\"name\": \"Сичук Ангеліна Олександрівна\", \"course\": 1, \"group\": \"1СОМ\", \"birth_year\": 2006},\n",
        "    {\"name\": \"Бугрова Юлія Вікторівна\", \"course\": 1, \"group\": \"1СОМ\", \"birth_year\": 2007},\n",
        "    {\"name\": \"Бичко Даша Юріївна\", \"course\": 1, \"group\": \"1СОМ\", \"birth_year\": 2007}\n",
        "]\n",
        "\n",
        "youngest = max(students, key=lambda s: s[\"birth_year\"])\n",
        "\n",
        "print(f\"Наймолодший студент: {youngest['name']}, курс {youngest['course']}, група {youngest['group']}, народжений у {youngest['birth_year']}\")\n"
      ],
      "metadata": {
        "colab": {
          "base_uri": "https://localhost:8080/"
        },
        "id": "iRH88IVFgpXa",
        "outputId": "1ae4a069-1142-4113-f99b-cf14e1f251cf"
      },
      "execution_count": 13,
      "outputs": [
        {
          "output_type": "stream",
          "name": "stdout",
          "text": [
            "Наймолодший студент: Слободянюк Вікторія Вікторівна, курс 1, група 1СОМ, народжений у 2007\n"
          ]
        }
      ]
    }
  ]
}